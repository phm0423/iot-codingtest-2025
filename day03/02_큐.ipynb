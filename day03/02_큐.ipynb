{
 "cells": [
  {
   "cell_type": "markdown",
   "id": "f77561b7",
   "metadata": {},
   "source": [
    "## 큐\n",
    "\n",
    "### 개념\n",
    "\n",
    "#### ADT\n",
    "- `boolean isFull()`: 큐가 가득 찼는지 확인\n",
    "- `boolean isEmpty()`: 큐가 비어있는지 확인\n",
    "- `void enQueue(item)`: 큐에 데이터 추가\n",
    "- `item deQueue()`: 큐에서 데이터 추출\n",
    "- `int front`: 큐에서 다음에 추출할 데이터 위치\n",
    "- `int rear`: 큐에서 최근에 추가한 데이터 위치\n",
    "- `item data[maxsize]`:  큐에서 데이터 관리하는 자료구조\n",
    "\n",
    "#### 외부라이브러리\n",
    "- Queue는 외부라이브러리가 아주 많음\n",
    "- collections.deque, multiprocessing.Queue, asyncio.Queue, janus, redis-py, kombu, rq ..."
   ]
  },
  {
   "cell_type": "code",
   "execution_count": 2,
   "id": "447a4450",
   "metadata": {},
   "outputs": [],
   "source": [
    "# 구현1\n",
    "queue = []\n",
    "\n",
    "queue.append(3) # enqueue\n",
    "queue.append(6)\n",
    "queue.append(9)"
   ]
  },
  {
   "cell_type": "code",
   "execution_count": 3,
   "id": "43ee78d7",
   "metadata": {},
   "outputs": [
    {
     "data": {
      "text/plain": [
       "3"
      ]
     },
     "execution_count": 3,
     "metadata": {},
     "output_type": "execute_result"
    }
   ],
   "source": [
    "first_item = queue.pop(0)   # dequeue\n",
    "first_item"
   ]
  },
  {
   "cell_type": "code",
   "execution_count": 4,
   "id": "81f2c8e7",
   "metadata": {},
   "outputs": [
    {
     "data": {
      "text/plain": [
       "[6, 9]"
      ]
     },
     "execution_count": 4,
     "metadata": {},
     "output_type": "execute_result"
    }
   ],
   "source": [
    "queue"
   ]
  },
  {
   "cell_type": "code",
   "execution_count": 5,
   "id": "1b10bc22",
   "metadata": {},
   "outputs": [],
   "source": [
    "queue.append(11)\n",
    "queue.append(13)"
   ]
  },
  {
   "cell_type": "code",
   "execution_count": 6,
   "id": "120fda7d",
   "metadata": {},
   "outputs": [
    {
     "data": {
      "text/plain": [
       "[6, 9, 11, 13]"
      ]
     },
     "execution_count": 6,
     "metadata": {},
     "output_type": "execute_result"
    }
   ],
   "source": [
    "queue"
   ]
  },
  {
   "cell_type": "code",
   "execution_count": 7,
   "id": "700b1fe9",
   "metadata": {},
   "outputs": [
    {
     "data": {
      "text/plain": [
       "6"
      ]
     },
     "execution_count": 7,
     "metadata": {},
     "output_type": "execute_result"
    }
   ],
   "source": [
    "queue.pop(0)"
   ]
  },
  {
   "cell_type": "code",
   "execution_count": 8,
   "id": "19982b96",
   "metadata": {},
   "outputs": [
    {
     "data": {
      "text/plain": [
       "[9, 11, 13]"
      ]
     },
     "execution_count": 8,
     "metadata": {},
     "output_type": "execute_result"
    }
   ],
   "source": [
    "queue"
   ]
  },
  {
   "cell_type": "code",
   "execution_count": 9,
   "id": "7172c2d2",
   "metadata": {},
   "outputs": [],
   "source": [
    "# 구현 2, deque 사용\n",
    "from collections import deque\n",
    "\n",
    "queue2 = deque()"
   ]
  },
  {
   "cell_type": "code",
   "execution_count": 10,
   "id": "db443734",
   "metadata": {},
   "outputs": [],
   "source": [
    "queue2.append(1)\n",
    "queue2.append(3)\n",
    "queue2.append(5)"
   ]
  },
  {
   "cell_type": "code",
   "execution_count": 11,
   "id": "2e78e4d7",
   "metadata": {},
   "outputs": [],
   "source": [
    "queue2.appendleft(-1)   # deque 특징. 양쪽에서 데이터를 추가할 수 있음"
   ]
  },
  {
   "cell_type": "code",
   "execution_count": 12,
   "id": "bc507985",
   "metadata": {},
   "outputs": [
    {
     "data": {
      "text/plain": [
       "deque([-1, 1, 3, 5])"
      ]
     },
     "execution_count": 12,
     "metadata": {},
     "output_type": "execute_result"
    }
   ],
   "source": [
    "queue2"
   ]
  },
  {
   "cell_type": "code",
   "execution_count": 13,
   "id": "73252185",
   "metadata": {},
   "outputs": [
    {
     "data": {
      "text/plain": [
       "5"
      ]
     },
     "execution_count": 13,
     "metadata": {},
     "output_type": "execute_result"
    }
   ],
   "source": [
    "queue2.pop()    # 스택형태, 사용하면 안됨"
   ]
  },
  {
   "cell_type": "code",
   "execution_count": 14,
   "id": "693b23df",
   "metadata": {},
   "outputs": [
    {
     "data": {
      "text/plain": [
       "-1"
      ]
     },
     "execution_count": 14,
     "metadata": {},
     "output_type": "execute_result"
    }
   ],
   "source": [
    "queue2.popleft()"
   ]
  },
  {
   "cell_type": "markdown",
   "id": "09538b66",
   "metadata": {},
   "source": [
    "#### 성능테스트"
   ]
  },
  {
   "cell_type": "code",
   "execution_count": 16,
   "id": "6fc7039b",
   "metadata": {},
   "outputs": [],
   "source": [
    "from collections import deque\n",
    "import time\n",
    "\n",
    "lst = list(range(100000))\n",
    "dq = deque(range(100000))"
   ]
  },
  {
   "cell_type": "code",
   "execution_count": 17,
   "id": "d309f635",
   "metadata": {},
   "outputs": [
    {
     "name": "stdout",
     "output_type": "stream",
     "text": [
      "pop(0) 소요시간: 0.8041970729827881\n"
     ]
    }
   ],
   "source": [
    "# pop(0)\n",
    "start_time = time.time()\n",
    "for i in range(100000):\n",
    "    lst.pop(0)\n",
    "end_time = time.time()\n",
    "print(f'pop(0) 소요시간: {end_time - start_time}')"
   ]
  },
  {
   "cell_type": "code",
   "execution_count": 18,
   "id": "54f0eede",
   "metadata": {},
   "outputs": [
    {
     "name": "stdout",
     "output_type": "stream",
     "text": [
      "popleft() 소요시간: 0.005005836486816406\n"
     ]
    }
   ],
   "source": [
    "# popleft()\n",
    "start_time = time.time()\n",
    "for i in range(100000):\n",
    "    dq.popleft()\n",
    "end_time = time.time()\n",
    "print(f'popleft() 소요시간: {end_time - start_time}')"
   ]
  },
  {
   "cell_type": "markdown",
   "id": "cc741d01",
   "metadata": {},
   "source": [
    "- queue를 구현할때는 deque를 import해서 구현할 것\n",
    "- 속도차이로 일반리스트로 구현하면 코딩테스트시 불리할 수 있음"
   ]
  },
  {
   "cell_type": "markdown",
   "id": "9f3ef004",
   "metadata": {},
   "source": [
    "### 몸풀기 문제\n",
    "\n",
    "#### 요세푸스 문제\n",
    "- 유대인 역사가 플라비우스 요세푸스가 만든 문제"
   ]
  },
  {
   "cell_type": "code",
   "execution_count": 31,
   "id": "611c7a31",
   "metadata": {},
   "outputs": [],
   "source": [
    "# 요세푸스 문제 구현\n",
    "from collections import deque\n",
    "\n",
    "def soulution(N, K):\n",
    "    # 1부터 N까지 deque에 삽입\n",
    "    queue = deque(range(1, N+1))\n",
    "\n",
    "    while len(queue) > 1:   # queue에 하나의 요소가 남을때까지 반복\n",
    "        for _ in range(K - 1):  # K-1번째 데이터만 꺼내서 뒤로 보냄\n",
    "            queue.append(queue.popleft())   # K번째 요소를 찾을 때까지 앞에서부터 제거하고 뒤로 보냄\n",
    "\n",
    "        queue.popleft()     # 제거 (데이터를 꺼내고 다른 곳에 할당X)\n",
    "\n",
    "    return queue[0]"
   ]
  },
  {
   "cell_type": "code",
   "execution_count": 34,
   "id": "e8622fe9",
   "metadata": {},
   "outputs": [
    {
     "data": {
      "text/plain": [
       "3"
      ]
     },
     "execution_count": 34,
     "metadata": {},
     "output_type": "execute_result"
    }
   ],
   "source": [
    "soulution(5,2)\n"
   ]
  },
  {
   "cell_type": "markdown",
   "id": "8d3f58b2",
   "metadata": {},
   "source": [
    "#### 카드뭉치\n",
    "\n",
    "- https://school.programmers.co.kr/learn/courses/30/lessons/159994"
   ]
  },
  {
   "cell_type": "code",
   "execution_count": 37,
   "id": "d62403ba",
   "metadata": {},
   "outputs": [],
   "source": [
    "from collections import deque\n",
    "\n",
    "def solution(cards1, cards2, goal):\n",
    "    # cards와 goal을 deque로 변환\n",
    "    cards1, cards2, goal = deque(cards1), deque(cards2), deque(goal)\n",
    "\n",
    "    # goal의 문자열을 하나씩 꺼내서 반복\n",
    "    while goal:\n",
    "        # cards1 맨 첫 요소와 goal의 첫 요소가 일치하면\n",
    "        if cards1 and cards1[0] == goal[0]:\n",
    "            cards1.popleft()\n",
    "            goal.popleft()\n",
    "        # cards2 맨 첫 요소와 goal의 첫 요소가 일치하면\n",
    "        elif cards2 and cards2[0] == goal[0]:\n",
    "            cards2.popleft()\n",
    "            goal.popleft()\n",
    "        else:   # 일치하는 요소가 없으면\n",
    "            break\n",
    "\n",
    "    return 'Yes' if not goal else 'No' # goal 비었으면 Yes, 아니면 No"
   ]
  },
  {
   "cell_type": "code",
   "execution_count": 38,
   "id": "dd46d49e",
   "metadata": {},
   "outputs": [
    {
     "data": {
      "text/plain": [
       "'Yes'"
      ]
     },
     "execution_count": 38,
     "metadata": {},
     "output_type": "execute_result"
    }
   ],
   "source": [
    "solution([\"i\", \"drink\", \"water\"], [\"want\", \"to\"], [\"i\", \"want\", \"to\", \"drink\", \"water\"])"
   ]
  }
 ],
 "metadata": {
  "kernelspec": {
   "display_name": "3.11.9",
   "language": "python",
   "name": "python3"
  },
  "language_info": {
   "codemirror_mode": {
    "name": "ipython",
    "version": 3
   },
   "file_extension": ".py",
   "mimetype": "text/x-python",
   "name": "python",
   "nbconvert_exporter": "python",
   "pygments_lexer": "ipython3",
   "version": "3.11.9"
  }
 },
 "nbformat": 4,
 "nbformat_minor": 5
}
