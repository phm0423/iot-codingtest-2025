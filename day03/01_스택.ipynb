{
 "cells": [
  {
   "cell_type": "markdown",
   "id": "6b8dcffc",
   "metadata": {},
   "source": [
    "### 몸풀기 문제\n",
    "\n",
    "#### 괄호 짝 맞추기"
   ]
  },
  {
   "cell_type": "code",
   "execution_count": 1,
   "id": "3564cc5c",
   "metadata": {},
   "outputs": [],
   "source": [
    "def solution(s):\n",
    "    stack = [] # 리스트를 스택대신, append(), pop() 사용\n",
    "\n",
    "    for c in s: # 문자열 s를 받아서 단어 c 하나씩 반복\n",
    "        if c == '(':    # 여는 괄호면\n",
    "            stack.append(c)\n",
    "        elif c == ')':  # 닫는 괄호일때\n",
    "            if not stack:   # 스택에 없으면\n",
    "                return False\n",
    "            else:\n",
    "                stack.pop() # 들어있는 (를 빼냄\n",
    "\n",
    "    if stack:\n",
    "        return False    # 반복이 끝났는데 스택에 뭔가 남아있으면 안됨\n",
    "    else:\n",
    "        return True"
   ]
  },
  {
   "cell_type": "code",
   "execution_count": 2,
   "id": "6b2c78e2",
   "metadata": {},
   "outputs": [
    {
     "data": {
      "text/plain": [
       "True"
      ]
     },
     "execution_count": 2,
     "metadata": {},
     "output_type": "execute_result"
    }
   ],
   "source": [
    "solution('(())()')"
   ]
  },
  {
   "cell_type": "code",
   "execution_count": 3,
   "id": "f57fc588",
   "metadata": {},
   "outputs": [
    {
     "data": {
      "text/plain": [
       "False"
      ]
     },
     "execution_count": 3,
     "metadata": {},
     "output_type": "execute_result"
    }
   ],
   "source": [
    "solution('((())()')"
   ]
  },
  {
   "cell_type": "markdown",
   "id": "87195799",
   "metadata": {},
   "source": [
    "#### 10진수를 2진수로 변환하기"
   ]
  },
  {
   "cell_type": "code",
   "execution_count": 4,
   "id": "11cb56a6",
   "metadata": {},
   "outputs": [
    {
     "data": {
      "text/plain": [
       "'0b10000000000'"
      ]
     },
     "execution_count": 4,
     "metadata": {},
     "output_type": "execute_result"
    }
   ],
   "source": [
    "bin(1024)"
   ]
  },
  {
   "cell_type": "code",
   "execution_count": 5,
   "id": "dc065441",
   "metadata": {},
   "outputs": [],
   "source": [
    "def solution(decimal):\n",
    "    stack = []\n",
    "\n",
    "    while decimal > 0:\n",
    "        remainder = decimal % 2 # 2로 나누어서 나머지 구함\n",
    "        stack.append(str(remainder))    # 남은 나머지를 스택에 추가\n",
    "        decimal //= 2   # 10진수를 정수 2로 나누어서 수를 조정\n",
    "\n",
    "    answer = \"\"\n",
    "    while stack:\n",
    "        answer += stack.pop()\n",
    "    \n",
    "    return answer"
   ]
  },
  {
   "cell_type": "code",
   "execution_count": 6,
   "id": "e6a48d73",
   "metadata": {},
   "outputs": [
    {
     "data": {
      "text/plain": [
       "'10000000000'"
      ]
     },
     "execution_count": 6,
     "metadata": {},
     "output_type": "execute_result"
    }
   ],
   "source": [
    "solution(1024)"
   ]
  },
  {
   "cell_type": "code",
   "execution_count": 8,
   "id": "dfba6ab9",
   "metadata": {},
   "outputs": [
    {
     "data": {
      "text/plain": [
       "'1000'"
      ]
     },
     "execution_count": 8,
     "metadata": {},
     "output_type": "execute_result"
    }
   ],
   "source": [
    "solution(8)"
   ]
  },
  {
   "cell_type": "code",
   "execution_count": 9,
   "id": "df82a690",
   "metadata": {},
   "outputs": [
    {
     "data": {
      "text/plain": [
       "'11011'"
      ]
     },
     "execution_count": 9,
     "metadata": {},
     "output_type": "execute_result"
    }
   ],
   "source": [
    "solution(27)"
   ]
  },
  {
   "cell_type": "markdown",
   "id": "09818f79",
   "metadata": {},
   "source": [
    "### 모의 테스트\n",
    "\n",
    "#### 표 편집\n",
    "- https://school.programmers.co.kr/learn/courses/30/lessons/81303"
   ]
  },
  {
   "cell_type": "code",
   "execution_count": 30,
   "id": "727c25f9",
   "metadata": {},
   "outputs": [],
   "source": [
    "def solution(n, k, cmd):\n",
    "    answer = ''     # 삭제 후 결과를 담을 변수\n",
    "    deleted = []    # 삭제된 행의 인덱스를 담을 변수(복구할 값)\n",
    "\n",
    "    # 각 행의 위의 인덱스를 저장하는 리스트\n",
    "    # 가상공간을 더 만들어서 처리\n",
    "    up = [i-1 for i in range(n+2)]\n",
    "    print(up)\n",
    "    down = [i+1 for i in range(n+1)]\n",
    "    print(down)\n",
    "\n",
    "    # 현재위치 인덱스(가상공간을 만들었기 때문에)\n",
    "    k += 1\n",
    "\n",
    "    # 주어진 cmd 리스트에서 요소별로 커맨드 처리\n",
    "    for cmd_i in cmd:\n",
    "        print(cmd_i)\n",
    "        # 각 커맨드 별로 처리\n",
    "        if cmd_i.startswith('C'): # 삭제처리\n",
    "            print('삭제처리')\n",
    "            deleted.append(k)     # 현재 행을 삭제, 스택에 추가하는 것은 간단\n",
    "            up[down[k]] = up[k]   # !! 삭제된 아래의 요소가 가리키는 상위인덱스가 삭제되는 요소가 가리키던 상위인덱스로 치환\n",
    "            down[up[k]] = down[k] # !! 삭제되는 위의 요소가 가리키는 하위인덱스가 삭제되는 요소가 가리키던 하위인덱스로 치환\n",
    "            k = up[k] if n < down[k] else down[k]   # 삭제되는 행이 마지막 행이라서 아래를 선택할 수 없으므로 삭제되는 행의 위의 값으로 대체\n",
    "\n",
    "        elif cmd_i.startswith('Z'):   # 복구처리\n",
    "            print('복구처리')\n",
    "            restore = deleted.pop()\n",
    "            down[up[restore]] = restore\n",
    "            up[down[restore]] = restore\n",
    "\n",
    "        else:   # U D 는 값이 두개씩\n",
    "            action, num = cmd_i.split(' ')\n",
    "            if action == 'U':   # 위로\n",
    "                print(f'위로 {int(num)} 이동')\n",
    "                for _ in range(int(num)):\n",
    "                    k = up[k]   # 현재행 인덱스k 가 값이 -1씩 변경\n",
    "            elif action == 'D': #아래로\n",
    "                print(f'아래로 {int(num)} 이동')\n",
    "                for _ in range(int(num)):\n",
    "                    k = down[k]\n",
    "    \n",
    "    print(deleted)\n",
    "    # 삭제된 인덱스를 전체에서 표현\n",
    "    answer = ['O'] * n\n",
    "    for i in deleted:\n",
    "        answer[i - 1] = 'X'\n",
    "    return \"\".join(answer)"
   ]
  },
  {
   "cell_type": "code",
   "execution_count": 31,
   "id": "df71c490",
   "metadata": {},
   "outputs": [
    {
     "name": "stdout",
     "output_type": "stream",
     "text": [
      "[-1, 0, 1, 2, 3, 4, 5, 6, 7, 8]\n",
      "[1, 2, 3, 4, 5, 6, 7, 8, 9]\n",
      "D 2\n",
      "아래로 2 이동\n",
      "C\n",
      "삭제처리\n",
      "U 3\n",
      "위로 3 이동\n",
      "C\n",
      "삭제처리\n",
      "D 4\n",
      "아래로 4 이동\n",
      "C\n",
      "삭제처리\n",
      "U 2\n",
      "위로 2 이동\n",
      "Z\n",
      "복구처리\n",
      "Z\n",
      "복구처리\n",
      "[5]\n"
     ]
    },
    {
     "data": {
      "text/plain": [
       "'OOOOXOOO'"
      ]
     },
     "execution_count": 31,
     "metadata": {},
     "output_type": "execute_result"
    }
   ],
   "source": [
    "solution(8, 2, [\"D 2\",\"C\",\"U 3\",\"C\",\"D 4\",\"C\",\"U 2\",\"Z\",\"Z\"])"
   ]
  },
  {
   "cell_type": "code",
   "execution_count": 32,
   "id": "8cfea1c8",
   "metadata": {},
   "outputs": [
    {
     "name": "stdout",
     "output_type": "stream",
     "text": [
      "[-1, 0, 1, 2, 3, 4, 5, 6, 7, 8]\n",
      "[1, 2, 3, 4, 5, 6, 7, 8, 9]\n",
      "D 2\n",
      "아래로 2 이동\n",
      "C\n",
      "삭제처리\n",
      "U 3\n",
      "위로 3 이동\n",
      "C\n",
      "삭제처리\n",
      "D 4\n",
      "아래로 4 이동\n",
      "C\n",
      "삭제처리\n",
      "U 2\n",
      "위로 2 이동\n",
      "Z\n",
      "복구처리\n",
      "Z\n",
      "복구처리\n",
      "U 1\n",
      "위로 1 이동\n",
      "C\n",
      "삭제처리\n",
      "[5, 3]\n"
     ]
    },
    {
     "data": {
      "text/plain": [
       "'OOXOXOOO'"
      ]
     },
     "execution_count": 32,
     "metadata": {},
     "output_type": "execute_result"
    }
   ],
   "source": [
    "solution(8, 2, [\"D 2\",\"C\",\"U 3\",\"C\",\"D 4\",\"C\",\"U 2\",\"Z\",\"Z\",\"U 1\",\"C\"])"
   ]
  },
  {
   "cell_type": "markdown",
   "id": "710041fd",
   "metadata": {},
   "source": [
    "- print() 는 테스트 케이스까지는 진행에 문제 없음\n",
    "- 효율성 테스트에서 통과 못함\n",
    "- 실제 제출 후 채점하기 시에는 print()문은 주석처리하고 제출할 것"
   ]
  }
 ],
 "metadata": {
  "kernelspec": {
   "display_name": "3.11.9",
   "language": "python",
   "name": "python3"
  },
  "language_info": {
   "codemirror_mode": {
    "name": "ipython",
    "version": 3
   },
   "file_extension": ".py",
   "mimetype": "text/x-python",
   "name": "python",
   "nbconvert_exporter": "python",
   "pygments_lexer": "ipython3",
   "version": "3.11.9"
  }
 },
 "nbformat": 4,
 "nbformat_minor": 5
}
