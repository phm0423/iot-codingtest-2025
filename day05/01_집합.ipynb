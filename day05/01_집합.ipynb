{
 "cells": [
  {
   "cell_type": "markdown",
   "id": "a1155278",
   "metadata": {},
   "source": [
    "## 집합\n",
    "\n",
    "### 몸풀기 문제\n",
    "\n",
    "#### 간단한 유니온-파인드 알고리즘 구하기"
   ]
  },
  {
   "cell_type": "code",
   "execution_count": null,
   "id": "d68ef0a2",
   "metadata": {},
   "outputs": [],
   "source": [
    "# 구현\n",
    "\n",
    "# 부모(대표원소) 찾기\n",
    "def find(x, parents):\n",
    "    if parents[x] != x:\n",
    "        parents[x] = find(parents[x], parents)  # 재귀호출\n",
    "    return parents[x]\n",
    "\n",
    "# 합치기 \n",
    "def union(x, y, parents, rank_data):\n",
    "    root1 = find(x, parents)\n",
    "    root2 = find(y, parents)\n",
    "\n",
    "    # 랭크알고리즘. \n",
    "    if root1 != root2:\n",
    "        if rank_data[root1] < rank_data[root2]:  \n",
    "            parents[root1] = root2\n",
    "        elif rank_data[root1] > rank_data[root2]:\n",
    "            parents[root2] = root1\n",
    "        else: \n",
    "            parents[root2] = root1\n",
    "            rank_data[root1] += 1\n",
    "\n",
    "def solution(k, operations):\n",
    "    # 각 부모노드 값을 자기 인덱스로 설정\n",
    "    parents = list(range(k))\n",
    "    print(parents)\n",
    "    answer = []\n",
    "    # rank_data 생성, 초기화\n",
    "    rank_data = [0] * k\n",
    "    print(rank_data)\n",
    "\n",
    "    for op in operations:\n",
    "        if op[0] == 'u':  # ['u', '0', '1']\n",
    "            print('유니온')\n",
    "            x = int(op[1])  # 0\n",
    "            y = int(op[2])  # 1\n",
    "            union(x, y, parents, rank_data)  \n",
    "        elif op[0] == 'f':\n",
    "            print('파인드')\n",
    "            x = int(op[1])  # 0\n",
    "            y = int(op[2])  # 1\n",
    "            answer.append(find(x, parents) == find(y, parents))\n",
    "\n",
    "    return answer"
   ]
  },
  {
   "cell_type": "code",
   "execution_count": 15,
   "id": "f6253994",
   "metadata": {},
   "outputs": [
    {
     "name": "stdout",
     "output_type": "stream",
     "text": [
      "[0, 1, 2]\n",
      "[0, 0, 0]\n",
      "유니온\n",
      "유니온\n",
      "파인드\n"
     ]
    },
    {
     "data": {
      "text/plain": [
       "[True]"
      ]
     },
     "execution_count": 15,
     "metadata": {},
     "output_type": "execute_result"
    }
   ],
   "source": [
    "solution(3, [['u', '0', '1'],['u', '1', '2'],['f', '0', '2']])"
   ]
  },
  {
   "cell_type": "code",
   "execution_count": 16,
   "id": "d33770fa",
   "metadata": {},
   "outputs": [
    {
     "name": "stdout",
     "output_type": "stream",
     "text": [
      "[0, 1, 2, 3]\n",
      "[0, 0, 0, 0]\n",
      "유니온\n",
      "유니온\n",
      "파인드\n",
      "파인드\n"
     ]
    },
    {
     "data": {
      "text/plain": [
       "[True, False]"
      ]
     },
     "execution_count": 16,
     "metadata": {},
     "output_type": "execute_result"
    }
   ],
   "source": [
    "solution(4, [['u', '0', '1'],['u', '2', '3'],['f', '0', '1'],['f', '0', '2']])"
   ]
  },
  {
   "cell_type": "markdown",
   "id": "7d981885",
   "metadata": {},
   "source": [
    "- 파인드 재귀호출보다 유니온 랭크알고리즘이 조금더 복잡\n"
   ]
  },
  {
   "cell_type": "markdown",
   "id": "4494c426",
   "metadata": {},
   "source": [
    "### 모의테스트\n",
    "\n",
    "#### 폰켓몬"
   ]
  },
  {
   "cell_type": "code",
   "execution_count": 19,
   "id": "ba777162",
   "metadata": {},
   "outputs": [],
   "source": [
    "def solution(nums):\n",
    "    # set 자료형을 사용하여 중복되지 않는 폰켓몬 종류를 구하고,\n",
    "    # min 함수를 사용하여 최대로 가져갈 수 있는 폰켓몬의 수와 비교\n",
    "    answer = min(len(set(nums)), len(nums)/2)\n",
    "    return answer"
   ]
  },
  {
   "cell_type": "code",
   "execution_count": null,
   "id": "dac42b6b",
   "metadata": {},
   "outputs": [],
   "source": [
    "def solution(nums):\n",
    "    answer = 0\n",
    "    num_set = set(nums) # 중복을 제거한 집합\n",
    "    n = len(nums)\n",
    "    k = n // 2\n",
    "    \n",
    "    answer = min(k, len(num_set))\n",
    "    return answer"
   ]
  }
 ],
 "metadata": {
  "kernelspec": {
   "display_name": "3.11.9",
   "language": "python",
   "name": "python3"
  },
  "language_info": {
   "codemirror_mode": {
    "name": "ipython",
    "version": 3
   },
   "file_extension": ".py",
   "mimetype": "text/x-python",
   "name": "python",
   "nbconvert_exporter": "python",
   "pygments_lexer": "ipython3",
   "version": "3.11.9"
  }
 },
 "nbformat": 4,
 "nbformat_minor": 5
}
