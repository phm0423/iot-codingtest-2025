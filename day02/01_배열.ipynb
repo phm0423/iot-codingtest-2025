{
 "cells": [
  {
   "cell_type": "markdown",
   "id": "d281d4c8",
   "metadata": {},
   "source": [
    "## 배열\n",
    "\n",
    "### 배열선언\n",
    "\n",
    "#### 일반적 배열선언"
   ]
  },
  {
   "cell_type": "code",
   "execution_count": 2,
   "id": "84faef40",
   "metadata": {},
   "outputs": [
    {
     "data": {
      "text/plain": [
       "[0, 0, 0, 0, 0, 0]"
      ]
     },
     "execution_count": 2,
     "metadata": {},
     "output_type": "execute_result"
    }
   ],
   "source": [
    "arr1 = [0,0,0,0,0,0]\n",
    "arr1"
   ]
  },
  {
   "cell_type": "code",
   "execution_count": 3,
   "id": "905fe1ba",
   "metadata": {},
   "outputs": [
    {
     "data": {
      "text/plain": [
       "[0, 0, 0, 0, 0, 0]"
      ]
     },
     "execution_count": 3,
     "metadata": {},
     "output_type": "execute_result"
    }
   ],
   "source": [
    "arr2 = [0]*6\n",
    "arr2"
   ]
  },
  {
   "cell_type": "markdown",
   "id": "387fc64e",
   "metadata": {},
   "source": [
    "#### 리스트 생성자 사용"
   ]
  },
  {
   "cell_type": "code",
   "execution_count": 4,
   "id": "4a69213d",
   "metadata": {},
   "outputs": [
    {
     "data": {
      "text/plain": [
       "[0, 1, 2, 3, 4, 5]"
      ]
     },
     "execution_count": 4,
     "metadata": {},
     "output_type": "execute_result"
    }
   ],
   "source": [
    "arr3 = list(range(6))\n",
    "arr3"
   ]
  },
  {
   "cell_type": "markdown",
   "id": "b8b4da53",
   "metadata": {},
   "source": [
    "#### 리스트 컨프리헨션"
   ]
  },
  {
   "cell_type": "code",
   "execution_count": 5,
   "id": "18ae04bf",
   "metadata": {},
   "outputs": [
    {
     "data": {
      "text/plain": [
       "[0, 1, 2, 3, 4, 5]"
      ]
     },
     "execution_count": 5,
     "metadata": {},
     "output_type": "execute_result"
    }
   ],
   "source": [
    "arr4 = [x for x in range(6)]\n",
    "arr4"
   ]
  },
  {
   "cell_type": "code",
   "execution_count": 6,
   "id": "b7c03c90",
   "metadata": {},
   "outputs": [
    {
     "data": {
      "text/plain": [
       "[0, 0, 0, 0, 0, 0]"
      ]
     },
     "execution_count": 6,
     "metadata": {},
     "output_type": "execute_result"
    }
   ],
   "source": [
    "# 어짜피 사용하지 않는 변수라면 _{사용하지 않는 변수}로 변경하라\n",
    "arr5 = [0 for _ in range(6)]\n",
    "arr5"
   ]
  },
  {
   "cell_type": "code",
   "execution_count": 7,
   "id": "30d465bd",
   "metadata": {},
   "outputs": [
    {
     "data": {
      "text/plain": [
       "[[1, 2, 3, 4], [5, 6, 7, 8], [9, 10, 11, 12]]"
      ]
     },
     "execution_count": 7,
     "metadata": {},
     "output_type": "execute_result"
    }
   ],
   "source": [
    "# 선언\n",
    "arr6 = [[1,2,3,4], [5,6,7,8], [9,10,11,12]]\n",
    "arr6"
   ]
  },
  {
   "cell_type": "code",
   "execution_count": 8,
   "id": "c39a8b63",
   "metadata": {},
   "outputs": [
    {
     "data": {
      "text/plain": [
       "[1, 2, 3, 4]"
      ]
     },
     "execution_count": 8,
     "metadata": {},
     "output_type": "execute_result"
    }
   ],
   "source": [
    "arr6[0]     # [1,2,3,4] 0번행 값들 전부"
   ]
  },
  {
   "cell_type": "code",
   "execution_count": 9,
   "id": "bab758fc",
   "metadata": {},
   "outputs": [
    {
     "data": {
      "text/plain": [
       "4"
      ]
     },
     "execution_count": 9,
     "metadata": {},
     "output_type": "execute_result"
    }
   ],
   "source": [
    "arr6[0][3]  # 0행 3열값을 표시하라"
   ]
  },
  {
   "cell_type": "code",
   "execution_count": 11,
   "id": "9952aad6",
   "metadata": {},
   "outputs": [
    {
     "data": {
      "text/plain": [
       "[[1, 2, 3, 4], [5, 6, 7, 8], [9, 10, 11, 19]]"
      ]
     },
     "execution_count": 11,
     "metadata": {},
     "output_type": "execute_result"
    }
   ],
   "source": [
    "arr6[2][3] = 19\n",
    "arr6"
   ]
  },
  {
   "cell_type": "markdown",
   "id": "4dad0088",
   "metadata": {},
   "source": [
    "#### 리스트 컨프리헨션"
   ]
  },
  {
   "cell_type": "code",
   "execution_count": 12,
   "id": "99b56085",
   "metadata": {},
   "outputs": [
    {
     "data": {
      "text/plain": [
       "[[1, 2, 3, 4], [5, 6, 7, 8], [9, 10, 11, 12]]"
      ]
     },
     "execution_count": 12,
     "metadata": {},
     "output_type": "execute_result"
    }
   ],
   "source": [
    "arr7 = [[x for x in range(1 + y * 4, 5 + y *4)] for y in range(3)]\n",
    "arr7"
   ]
  },
  {
   "cell_type": "code",
   "execution_count": 13,
   "id": "036d6289",
   "metadata": {},
   "outputs": [
    {
     "data": {
      "text/plain": [
       "[1, 2, 3, 4]"
      ]
     },
     "execution_count": 13,
     "metadata": {},
     "output_type": "execute_result"
    }
   ],
   "source": [
    "[x for x in range(1, 5)]"
   ]
  },
  {
   "cell_type": "markdown",
   "id": "50d2aa4f",
   "metadata": {},
   "source": [
    "### 배열 시간복잡도\n",
    "- 배열 요소에 접근하는 시간복잡도: $O(1)$. 소요시간이 전혀 걸리지 않음\n",
    "- 배열에 맨 처음이나 중간에 삽입하는 시간복잡도: $O(n)$\n",
    "- 배열에 맨 처음이나 중간에 삭제하는 시간복잡도: $O(n)$\n",
    "\n",
    "#### 배열 선택시 고려점\n",
    "- 할당할 메모리 크기 확인. 1차원 배열 최대 1000만개, 2차원 배열 최대 3000 * 3000(900만개)\n",
    "- 중간에 데이터 삽입이 많으면 시간복잡도가 높아짐"
   ]
  },
  {
   "cell_type": "markdown",
   "id": "ea634adf",
   "metadata": {},
   "source": [
    "### 자주 사용하는 리스트 문법\n",
    "\n",
    "#### append()사용"
   ]
  },
  {
   "cell_type": "code",
   "execution_count": 14,
   "id": "4d7dbb3f",
   "metadata": {},
   "outputs": [],
   "source": [
    "my_list = [1, 2, 3]\n",
    "my_list.append(4)"
   ]
  },
  {
   "cell_type": "code",
   "execution_count": 15,
   "id": "1258dff3",
   "metadata": {},
   "outputs": [
    {
     "data": {
      "text/plain": [
       "[1, 2, 3, 4]"
      ]
     },
     "execution_count": 15,
     "metadata": {},
     "output_type": "execute_result"
    }
   ],
   "source": [
    "my_list"
   ]
  },
  {
   "cell_type": "markdown",
   "id": "ecc866c6",
   "metadata": {},
   "source": [
    "#### + 연산자사용"
   ]
  },
  {
   "cell_type": "code",
   "execution_count": 16,
   "id": "5cf0112b",
   "metadata": {},
   "outputs": [
    {
     "data": {
      "text/plain": [
       "[1, 2, 3, 4, 5, 6]"
      ]
     },
     "execution_count": 16,
     "metadata": {},
     "output_type": "execute_result"
    }
   ],
   "source": [
    "my_list = my_list + [5, 6]\n",
    "my_list"
   ]
  },
  {
   "cell_type": "markdown",
   "id": "1983b982",
   "metadata": {},
   "source": [
    "#### insert() 함수 사용"
   ]
  },
  {
   "cell_type": "code",
   "execution_count": 17,
   "id": "96a2c1c8",
   "metadata": {},
   "outputs": [
    {
     "data": {
      "text/plain": [
       "[1, 2, 3, 999, 4, 5, 6]"
      ]
     },
     "execution_count": 17,
     "metadata": {},
     "output_type": "execute_result"
    }
   ],
   "source": [
    "my_list.insert(3, 999)\n",
    "my_list"
   ]
  },
  {
   "cell_type": "markdown",
   "id": "d87a508e",
   "metadata": {},
   "source": [
    "#### pop()함수로 데이터 추출"
   ]
  },
  {
   "cell_type": "code",
   "execution_count": 18,
   "id": "e6825efa",
   "metadata": {},
   "outputs": [
    {
     "data": {
      "text/plain": [
       "6"
      ]
     },
     "execution_count": 18,
     "metadata": {},
     "output_type": "execute_result"
    }
   ],
   "source": [
    "my_list.pop()"
   ]
  },
  {
   "cell_type": "code",
   "execution_count": 19,
   "id": "f5d072ba",
   "metadata": {},
   "outputs": [
    {
     "data": {
      "text/plain": [
       "[1, 2, 3, 999, 4, 5]"
      ]
     },
     "execution_count": 19,
     "metadata": {},
     "output_type": "execute_result"
    }
   ],
   "source": [
    "my_list"
   ]
  },
  {
   "cell_type": "code",
   "execution_count": 20,
   "id": "00107372",
   "metadata": {},
   "outputs": [
    {
     "data": {
      "text/plain": [
       "999"
      ]
     },
     "execution_count": 20,
     "metadata": {},
     "output_type": "execute_result"
    }
   ],
   "source": [
    "my_list.pop(3)"
   ]
  },
  {
   "cell_type": "code",
   "execution_count": 21,
   "id": "0841deed",
   "metadata": {},
   "outputs": [
    {
     "data": {
      "text/plain": [
       "[1, 2, 3, 4, 5]"
      ]
     },
     "execution_count": 21,
     "metadata": {},
     "output_type": "execute_result"
    }
   ],
   "source": [
    "my_list"
   ]
  },
  {
   "cell_type": "markdown",
   "id": "24e2d3bb",
   "metadata": {},
   "source": [
    "#### remove() 로 데이터 삭제. 값으로 삭제"
   ]
  },
  {
   "cell_type": "code",
   "execution_count": 24,
   "id": "c7ec9f70",
   "metadata": {},
   "outputs": [
    {
     "ename": "ValueError",
     "evalue": "list.remove(x): x not in list",
     "output_type": "error",
     "traceback": [
      "\u001b[1;31m---------------------------------------------------------------------------\u001b[0m",
      "\u001b[1;31mValueError\u001b[0m                                Traceback (most recent call last)",
      "Cell \u001b[1;32mIn[24], line 1\u001b[0m\n\u001b[1;32m----> 1\u001b[0m \u001b[43mmy_list\u001b[49m\u001b[38;5;241;43m.\u001b[39;49m\u001b[43mremove\u001b[49m\u001b[43m(\u001b[49m\u001b[38;5;241;43m3\u001b[39;49m\u001b[43m)\u001b[49m   \u001b[38;5;66;03m# 리스트에서 3을 지워\u001b[39;00m\n",
      "\u001b[1;31mValueError\u001b[0m: list.remove(x): x not in list"
     ]
    }
   ],
   "source": [
    "my_list.remove(3)   # 리스트에서 3을 지워"
   ]
  },
  {
   "cell_type": "code",
   "execution_count": 23,
   "id": "25fac11e",
   "metadata": {},
   "outputs": [
    {
     "data": {
      "text/plain": [
       "[1, 2, 4, 5]"
      ]
     },
     "execution_count": 23,
     "metadata": {},
     "output_type": "execute_result"
    }
   ],
   "source": [
    "my_list"
   ]
  },
  {
   "cell_type": "markdown",
   "id": "10e45497",
   "metadata": {},
   "source": [
    "#### 많이 사용하는 문법"
   ]
  },
  {
   "cell_type": "code",
   "execution_count": 25,
   "id": "c5fa9526",
   "metadata": {},
   "outputs": [],
   "source": [
    "fruits = ['apple', 'banana', 'cherry', 'apple', 'orange', 'banana', 'kiwi']"
   ]
  },
  {
   "cell_type": "code",
   "execution_count": 26,
   "id": "b22c9fad",
   "metadata": {},
   "outputs": [
    {
     "data": {
      "text/plain": [
       "7"
      ]
     },
     "execution_count": 26,
     "metadata": {},
     "output_type": "execute_result"
    }
   ],
   "source": [
    "len(fruits)"
   ]
  },
  {
   "cell_type": "code",
   "execution_count": 27,
   "id": "86298272",
   "metadata": {},
   "outputs": [
    {
     "data": {
      "text/plain": [
       "1"
      ]
     },
     "execution_count": 27,
     "metadata": {},
     "output_type": "execute_result"
    }
   ],
   "source": [
    "fruits.index('banana')"
   ]
  },
  {
   "cell_type": "code",
   "execution_count": 28,
   "id": "a056766e",
   "metadata": {},
   "outputs": [
    {
     "data": {
      "text/plain": [
       "5"
      ]
     },
     "execution_count": 28,
     "metadata": {},
     "output_type": "execute_result"
    }
   ],
   "source": [
    "fruits.index('banana',2)"
   ]
  },
  {
   "cell_type": "code",
   "execution_count": 29,
   "id": "ca2d9396",
   "metadata": {},
   "outputs": [
    {
     "ename": "ValueError",
     "evalue": "'banana' is not in list",
     "output_type": "error",
     "traceback": [
      "\u001b[1;31m---------------------------------------------------------------------------\u001b[0m",
      "\u001b[1;31mValueError\u001b[0m                                Traceback (most recent call last)",
      "Cell \u001b[1;32mIn[29], line 1\u001b[0m\n\u001b[1;32m----> 1\u001b[0m \u001b[43mfruits\u001b[49m\u001b[38;5;241;43m.\u001b[39;49m\u001b[43mindex\u001b[49m\u001b[43m(\u001b[49m\u001b[38;5;124;43m'\u001b[39;49m\u001b[38;5;124;43mbanana\u001b[39;49m\u001b[38;5;124;43m'\u001b[39;49m\u001b[43m,\u001b[49m\u001b[43m \u001b[49m\u001b[38;5;241;43m6\u001b[39;49m\u001b[43m)\u001b[49m\n",
      "\u001b[1;31mValueError\u001b[0m: 'banana' is not in list"
     ]
    }
   ],
   "source": [
    "fruits.index('banana', 6)"
   ]
  },
  {
   "cell_type": "code",
   "execution_count": 30,
   "id": "91699d88",
   "metadata": {},
   "outputs": [
    {
     "data": {
      "text/plain": [
       "['apple', 'apple', 'banana', 'banana', 'cherry', 'kiwi', 'orange']"
      ]
     },
     "execution_count": 30,
     "metadata": {},
     "output_type": "execute_result"
    }
   ],
   "source": [
    "fruits.sort()\n",
    "fruits"
   ]
  },
  {
   "cell_type": "code",
   "execution_count": 32,
   "id": "3151f8c8",
   "metadata": {},
   "outputs": [
    {
     "data": {
      "text/plain": [
       "['orange', 'kiwi', 'cherry', 'banana', 'banana', 'apple', 'apple']"
      ]
     },
     "execution_count": 32,
     "metadata": {},
     "output_type": "execute_result"
    }
   ],
   "source": [
    "fruits.sort(reverse=True)\n",
    "fruits"
   ]
  },
  {
   "cell_type": "code",
   "execution_count": 33,
   "id": "e0648082",
   "metadata": {},
   "outputs": [
    {
     "data": {
      "text/plain": [
       "0"
      ]
     },
     "execution_count": 33,
     "metadata": {},
     "output_type": "execute_result"
    }
   ],
   "source": [
    "fruits.count('mango')"
   ]
  },
  {
   "cell_type": "markdown",
   "id": "64b748c4",
   "metadata": {},
   "source": [
    "### 몸풀기 문제\n",
    "#### 배열정렬하기\n",
    "\n",
    "|입력|출력|\n",
    "|:--|:--|\n",
    "|[1,-5,2,4,3]|[-5,1,2,3,4]|\n",
    "|[2,1,1,3,2,5,4]|[1, 1, 2, 2, 3, 4, 5]|\n",
    "|[6,1,7]|[1, 6, 7] |"
   ]
  },
  {
   "cell_type": "code",
   "execution_count": 34,
   "id": "ae1e99fc",
   "metadata": {},
   "outputs": [],
   "source": [
    "def solution(arr):\n",
    "    answer = []\n",
    "    return answer"
   ]
  },
  {
   "cell_type": "code",
   "execution_count": 35,
   "id": "95609fb3",
   "metadata": {},
   "outputs": [],
   "source": [
    "# 기본 정렬\n",
    "def solution(arr):\n",
    "    arr.sort()\n",
    "    return arr"
   ]
  },
  {
   "cell_type": "code",
   "execution_count": 36,
   "id": "43d307e2",
   "metadata": {},
   "outputs": [
    {
     "data": {
      "text/plain": [
       "[1, 1, 2, 2, 3, 4, 5]"
      ]
     },
     "execution_count": 36,
     "metadata": {},
     "output_type": "execute_result"
    }
   ],
   "source": [
    "# arr1 = [1, -5, 2, 4, 3]\n",
    "arr1 = [2, 1, 1, 3, 2, 5, 4]\n",
    "# arr1 = [6, 1, 7]\n",
    "\n",
    "solution(arr1)"
   ]
  },
  {
   "cell_type": "code",
   "execution_count": 37,
   "id": "ce673c15",
   "metadata": {},
   "outputs": [],
   "source": [
    "# 원본을 보존하면서 작업\n",
    "def solution(arr):\n",
    "    answer = sorted(arr, reverse=False)\n",
    "    return answer"
   ]
  },
  {
   "cell_type": "markdown",
   "id": "bab542ba",
   "metadata": {},
   "source": [
    "#### sort() 함수 사용않고 정렬알고리즘 구현\n",
    "- $O(n^2)$ 시간복잡도"
   ]
  },
  {
   "cell_type": "code",
   "execution_count": 38,
   "id": "767c6411",
   "metadata": {},
   "outputs": [],
   "source": [
    "import time\n",
    "\n",
    "def bubble_sort(arr):       # 버블소트\n",
    "    n = len(arr)\n",
    "\n",
    "    for i in range(n):\n",
    "        for j in range(n-i-1):  # 한번 돌고나면 맨처음 요소는 뛰어넘고 정렬 계속\n",
    "            if arr[j] > arr[j+1]:\n",
    "                arr[j], arr[j+1] = arr[j+1], arr[j]     # 파이썬에선 temp 없이 swap 가능\n",
    "\n",
    "    return arr\n",
    "\n",
    "def do_sort(arr):   # sort()사용\n",
    "    arr.sort()\n",
    "    return arr\n",
    "\n",
    "def measure_time(func, arr):    # 시간 측정함수\n",
    "    start_time = time.time()    # 시작시간 저장\n",
    "    result = func(arr)          # 함수 실행\n",
    "    end_time = time.time()      # 함수 종료시간 저장\n",
    "\n",
    "    return(end_time - start_time, result)\n",
    "\n",
    "arr = list(range(10000))"
   ]
  },
  {
   "cell_type": "code",
   "execution_count": 39,
   "id": "8c77ae1a",
   "metadata": {},
   "outputs": [],
   "source": [
    "arr.sort(reverse=True)"
   ]
  },
  {
   "cell_type": "markdown",
   "id": "e4337dc5",
   "metadata": {},
   "source": [
    "##### 버블 소트 시간 측정"
   ]
  },
  {
   "cell_type": "code",
   "execution_count": 40,
   "id": "f216d664",
   "metadata": {},
   "outputs": [],
   "source": [
    "(bubble_time, bubble_result) = measure_time(bubble_sort, arr)"
   ]
  },
  {
   "cell_type": "code",
   "execution_count": 41,
   "id": "aca532a9",
   "metadata": {},
   "outputs": [
    {
     "data": {
      "text/plain": [
       "10000"
      ]
     },
     "execution_count": 41,
     "metadata": {},
     "output_type": "execute_result"
    }
   ],
   "source": [
    "len(bubble_result)"
   ]
  },
  {
   "cell_type": "code",
   "execution_count": 42,
   "id": "25311b3d",
   "metadata": {},
   "outputs": [
    {
     "data": {
      "text/plain": [
       "'버블소트 실행 시간: 4.7505354881'"
      ]
     },
     "execution_count": 42,
     "metadata": {},
     "output_type": "execute_result"
    }
   ],
   "source": [
    "f'버블소트 실행 시간: {bubble_time:.10f}'"
   ]
  },
  {
   "cell_type": "markdown",
   "id": "4a86cf0a",
   "metadata": {},
   "source": [
    "- 1~9999까지 정렬된 상태에서 버블소트 실행 1.6초 정도 소요\n",
    "- 내림차순으로 역정렬된 상태에서 버블소트 실행 4.75초 정도 소요"
   ]
  },
  {
   "cell_type": "markdown",
   "id": "a27b0969",
   "metadata": {},
   "source": [
    "##### 내장 소트 시간측정"
   ]
  },
  {
   "cell_type": "code",
   "execution_count": 43,
   "id": "df8c9f92",
   "metadata": {},
   "outputs": [],
   "source": [
    "arr = list(range(10000))\n",
    "arr.sort(reverse=True)"
   ]
  },
  {
   "cell_type": "code",
   "execution_count": 44,
   "id": "e624d763",
   "metadata": {},
   "outputs": [],
   "source": [
    "sort_time, sort_result = measure_time(do_sort, arr)"
   ]
  },
  {
   "cell_type": "code",
   "execution_count": 45,
   "id": "87afabf1",
   "metadata": {},
   "outputs": [
    {
     "data": {
      "text/plain": [
       "'내장소트 실행 시간: 0.0000000000000000000000000000000000000000000000000000000000000000000000'"
      ]
     },
     "execution_count": 45,
     "metadata": {},
     "output_type": "execute_result"
    }
   ],
   "source": [
    "f'내장소트 실행 시간: {sort_time:.70f}'"
   ]
  },
  {
   "cell_type": "markdown",
   "id": "ae906aee",
   "metadata": {},
   "source": [
    "### 모의 테스트\n",
    "- 공부할때 사용하는 방법 VS Code. 실제 코테 환경에서는 불가능. 프로그래머스에서 바로 구현(디버깅 불가, 코드어시스턴스 사용불가)"
   ]
  },
  {
   "cell_type": "markdown",
   "id": "aa655dcd",
   "metadata": {},
   "source": [
    "#### 두개 뽑아서 더하기\n",
    "- https://school.programmers.co.kr/learn/courses/30/lessons/68644"
   ]
  },
  {
   "cell_type": "code",
   "execution_count": 46,
   "id": "480fff5d",
   "metadata": {},
   "outputs": [],
   "source": [
    "data = [5, 0, 2, 7]"
   ]
  },
  {
   "cell_type": "code",
   "execution_count": 47,
   "id": "2936d2f6",
   "metadata": {},
   "outputs": [],
   "source": [
    "def solution(numbers):\n",
    "    answer = []     # 빈 배열이 미리 생성\n",
    "    # 두 수를 선택해서 모든 경우의 수를 반복문으로 구함\n",
    "    for i in range(len(numbers)):\n",
    "        for j in range(i+1, len(numbers)):\n",
    "            # i인덱스와 j인덱스의 값을 더 해서 answer에 저장\n",
    "            answer.append(numbers[i] + numbers[j])\n",
    "\n",
    "    # 중복값 제거\n",
    "    answer = sorted(set(answer))\n",
    "\n",
    "    return answer"
   ]
  },
  {
   "cell_type": "code",
   "execution_count": 48,
   "id": "e7ad4f54",
   "metadata": {},
   "outputs": [
    {
     "data": {
      "text/plain": [
       "[2, 3, 4, 5, 6, 7]"
      ]
     },
     "execution_count": 48,
     "metadata": {},
     "output_type": "execute_result"
    }
   ],
   "source": [
    "solution([2, 1, 3, 4, 1])"
   ]
  },
  {
   "cell_type": "markdown",
   "id": "bac08b85",
   "metadata": {},
   "source": [
    "#### 방문길이\n",
    "- https://school.programmers.co.kr/learn/courses/30/lessons/49994"
   ]
  },
  {
   "cell_type": "code",
   "execution_count": 49,
   "id": "ba2dde40",
   "metadata": {},
   "outputs": [],
   "source": [
    "# 'ULURRDLLU'\n",
    "# 'LULLLLLLU'"
   ]
  },
  {
   "cell_type": "code",
   "execution_count": 50,
   "id": "cc67ce6e",
   "metadata": {},
   "outputs": [],
   "source": [
    "# 좌표가 맵을 벗어나지 않았는지 확인\n",
    "def is_in_map(nx, ny):\n",
    "    # Python 1.0부터의 기능\n",
    "    # chaining 문법 0 <= x <11\n",
    "    return 0 <= nx < 11 and 0 <= ny <11 # 0~10 사이의 값이 아니면 false\n",
    "\n",
    "# dir : U, D, L, R\n",
    "\n",
    "def move(x, y, dir):\n",
    "    if dir == 'U':\n",
    "        nx, ny = x, y+1\n",
    "    elif dir == 'D':\n",
    "        nx, ny = x, y-1\n",
    "    elif dir == 'L':\n",
    "        nx, ny = x-1, y\n",
    "    elif dir == 'R':\n",
    "        nx, ny = x+1, y\n",
    "    return nx, ny\n",
    "    \n",
    "def solution(dirs):\n",
    "    x, y = 5, 5\n",
    "    answer = set()  # 중복좌표 제거위해\n",
    "\n",
    "    for dir in dirs:\n",
    "        nx, ny = move(x, y, dir)    # nx, ny 바뀔 좌표\n",
    "        if not is_in_map(nx, ny):   # 좌표값이 맵안에 있음\n",
    "            continue\n",
    "        answer.add((x,y, nx, ny))   #\n",
    "        answer.add((nx, ny, x, y))\n",
    "        x, y = nx, ny\n",
    "    return len(answer)/2"
   ]
  }
 ],
 "metadata": {
  "kernelspec": {
   "display_name": "3.11.9",
   "language": "python",
   "name": "python3"
  },
  "language_info": {
   "codemirror_mode": {
    "name": "ipython",
    "version": 3
   },
   "file_extension": ".py",
   "mimetype": "text/x-python",
   "name": "python",
   "nbconvert_exporter": "python",
   "pygments_lexer": "ipython3",
   "version": "3.11.9"
  }
 },
 "nbformat": 4,
 "nbformat_minor": 5
}
