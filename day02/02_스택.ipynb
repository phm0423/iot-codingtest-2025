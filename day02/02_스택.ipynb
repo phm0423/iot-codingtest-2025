{
 "cells": [
  {
   "cell_type": "markdown",
   "id": "18542940",
   "metadata": {},
   "source": [
    "## 스택\n",
    "\n",
    "## 개념\n",
    "\n",
    "#### ADT\n",
    "- `boolean isFull()`: 스택이 가득 찼는지 확인. True면 더이상 삽입 불가 \n",
    "- `boolean isEmpty()`: 스택이 비어있는지 확인. True 면 추출 불가\n",
    "- `void push(item)`: 스택에 데이터 푸시. isFull() True면 처리 불가\n",
    "- `item pop()`: 스택에서 최근 푸시한 데이퍼 팝. isEmpty() True면 처리 불가\n",
    "- `int pop`: 스택에 최근 푸시한 데이터 위치 (높이)\n",
    "- `item data[maxsize]`: 데이터를 관리하는 리스트"
   ]
  },
  {
   "cell_type": "markdown",
   "id": "ce3e537b",
   "metadata": {},
   "source": [
    "```shell\n",
    "pip install stack\n",
    "```\n",
    "\n",
    "```python\n",
    "from stack import Stack\n",
    "```"
   ]
  },
  {
   "cell_type": "code",
   "execution_count": 3,
   "id": "7a18c490",
   "metadata": {},
   "outputs": [],
   "source": [
    "# 구현\n",
    "stack = []\n",
    "max_size = 10   # 데이터 10개만 저장\n",
    "\n",
    "# 스택이 꽉 찾는지 확인\n",
    "def isFull(stack):\n",
    "    return len(stack)== max_size\n",
    "\n",
    "# 스택이 비었는지 확인\n",
    "def isEmpty(stack):\n",
    "    return len(stack) == 0\n",
    "\n",
    "# Push\n",
    "def push(stack, item):\n",
    "    if isFull(stack):\n",
    "        print(\"Stack is Full!\")\n",
    "    else: \n",
    "        stack.append(item)\n",
    "        print(\"Data append\")\n",
    "\n",
    "# Pop\n",
    "def pop(stack):\n",
    "    if isEmpty(stack):\n",
    "        print(\"Stack is Emtpy!\")\n",
    "        return None\n",
    "    else:\n",
    "        return stack.pop()\n"
   ]
  },
  {
   "cell_type": "code",
   "execution_count": 24,
   "id": "33077be6",
   "metadata": {},
   "outputs": [
    {
     "name": "stdout",
     "output_type": "stream",
     "text": [
      "Data append\n"
     ]
    }
   ],
   "source": [
    "mystack= stack\n",
    "push(mystack, 2)"
   ]
  },
  {
   "cell_type": "code",
   "execution_count": 25,
   "id": "926c8982",
   "metadata": {},
   "outputs": [
    {
     "name": "stdout",
     "output_type": "stream",
     "text": [
      "Data append\n",
      "Data append\n"
     ]
    }
   ],
   "source": [
    "push(mystack, 5)\n",
    "push(mystack, 12)"
   ]
  },
  {
   "cell_type": "code",
   "execution_count": 26,
   "id": "6b66470f",
   "metadata": {},
   "outputs": [
    {
     "name": "stdout",
     "output_type": "stream",
     "text": [
      "Data append\n"
     ]
    }
   ],
   "source": [
    "push(mystack, 7)"
   ]
  },
  {
   "cell_type": "code",
   "execution_count": 27,
   "id": "9ab1223b",
   "metadata": {},
   "outputs": [
    {
     "data": {
      "text/plain": [
       "[2, 5, 12, 7]"
      ]
     },
     "execution_count": 27,
     "metadata": {},
     "output_type": "execute_result"
    }
   ],
   "source": [
    "mystack"
   ]
  },
  {
   "cell_type": "code",
   "execution_count": 23,
   "id": "7781ab6d",
   "metadata": {},
   "outputs": [
    {
     "name": "stdout",
     "output_type": "stream",
     "text": [
      "Stack is Emtpy!\n"
     ]
    }
   ],
   "source": [
    "pop(mystack)"
   ]
  }
 ],
 "metadata": {
  "kernelspec": {
   "display_name": "3.11.9",
   "language": "python",
   "name": "python3"
  },
  "language_info": {
   "codemirror_mode": {
    "name": "ipython",
    "version": 3
   },
   "file_extension": ".py",
   "mimetype": "text/x-python",
   "name": "python",
   "nbconvert_exporter": "python",
   "pygments_lexer": "ipython3",
   "version": "3.11.9"
  }
 },
 "nbformat": 4,
 "nbformat_minor": 5
}
