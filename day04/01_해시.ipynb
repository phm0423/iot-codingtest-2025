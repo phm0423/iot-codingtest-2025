{
 "cells": [
  {
   "cell_type": "markdown",
   "id": "bbdd36c1",
   "metadata": {},
   "source": [
    "## 해시\n",
    "\n",
    "### 몸풀기 문제\n",
    "\n",
    "#### 두 개의 수로 특정값 만들기\n",
    "- 양의 정수 리스트 arr. 정수 target. 이중 합이 target인 두 수가 arr에 있는지 확인\n",
    "- 있으면 True, 없으면 False\n",
    "\n",
    "- 입출력 예\n",
    "\n",
    "|arr|target|return|\n",
    "|:--:|:--:|:--:|\n",
    "|`[1,2,3,4,8]`|6|True|\n",
    "|`[2,3,5,9]`|10|False|\n",
    "\n",
    "- 이중 for문으로 풀면 문제는 해결가능. 시간복잡도 $ O (n^2) $. 최대개수 10,000개로 1억번 연산 필요\n",
    "- 해시로 처리"
   ]
  },
  {
   "cell_type": "code",
   "execution_count": 10,
   "id": "4091c427",
   "metadata": {},
   "outputs": [],
   "source": [
    "# 구현\n",
    "def solution(arr, target):\n",
    "    hash = [0] * (target + 1)  # 해시테이블 초기화, 타겟보다 큰 수는 필요없으므로 제거\n",
    "\n",
    "    for num in arr: \n",
    "        if num <= target:   # 타겟보다 큰수는 필요없음\n",
    "            hash[num] = 1\n",
    "\n",
    "    for num in arr:\n",
    "        if num >= target:  # target보다 큰수는 답이 안됨\n",
    "            continue\n",
    "\n",
    "        if ((target - num) == num): # arr 중복된 원소는 존재하지 않음\n",
    "            continue\n",
    "\n",
    "        if hash[target - num]:\n",
    "            return True\n",
    "\n",
    "    return False"
   ]
  },
  {
   "cell_type": "code",
   "execution_count": 13,
   "id": "d26e723f",
   "metadata": {},
   "outputs": [
    {
     "data": {
      "text/plain": [
       "True"
      ]
     },
     "execution_count": 13,
     "metadata": {},
     "output_type": "execute_result"
    }
   ],
   "source": [
    "solution([1,2,3,4,8], 6)  # 8은 필요없음"
   ]
  },
  {
   "cell_type": "code",
   "execution_count": 14,
   "id": "7a26a3ed",
   "metadata": {},
   "outputs": [
    {
     "data": {
      "text/plain": [
       "False"
      ]
     },
     "execution_count": 14,
     "metadata": {},
     "output_type": "execute_result"
    }
   ],
   "source": [
    "solution([2,3,5,9], 10)"
   ]
  },
  {
   "cell_type": "markdown",
   "id": "233bcd03",
   "metadata": {},
   "source": [
    "### 모의 테스트\n",
    "\n",
    "#### 완주하지 못한 선수\n",
    "- https://school.programmers.co.kr/learn/courses/30/lessons/42576"
   ]
  },
  {
   "cell_type": "code",
   "execution_count": 29,
   "id": "ed3cfb6e",
   "metadata": {},
   "outputs": [],
   "source": [
    "# 구현\n",
    "def solution(participant, completion):\n",
    "    answer = ''\n",
    "\n",
    "    for comp in completion:\n",
    "        for part in participant:\n",
    "            if comp == part:\n",
    "                participant.remove(comp)\n",
    "\n",
    "    answer = participant[0]\n",
    "    return answer"
   ]
  },
  {
   "cell_type": "code",
   "execution_count": 41,
   "id": "3f84758c",
   "metadata": {},
   "outputs": [
    {
     "data": {
      "text/plain": [
       "'leo'"
      ]
     },
     "execution_count": 41,
     "metadata": {},
     "output_type": "execute_result"
    }
   ],
   "source": [
    "solution([\"leo\", \"kiki\", \"eden\"], [\"eden\", \"kiki\"])"
   ]
  },
  {
   "cell_type": "code",
   "execution_count": 30,
   "id": "07c24a07",
   "metadata": {},
   "outputs": [
    {
     "data": {
      "text/plain": [
       "'vinko'"
      ]
     },
     "execution_count": 30,
     "metadata": {},
     "output_type": "execute_result"
    }
   ],
   "source": [
    "solution([\"marina\", \"josipa\", \"nikola\", \"vinko\", \"filipa\"], [\"josipa\", \"filipa\", \"marina\", \"nikola\"])"
   ]
  },
  {
   "cell_type": "code",
   "execution_count": 39,
   "id": "14c38d61",
   "metadata": {},
   "outputs": [
    {
     "data": {
      "text/plain": [
       "'mislav'"
      ]
     },
     "execution_count": 39,
     "metadata": {},
     "output_type": "execute_result"
    }
   ],
   "source": [
    "solution([\"mislav\", \"stanko\", \"mislav\", \"ana\"], [\"stanko\", \"ana\", \"mislav\"])"
   ]
  },
  {
   "cell_type": "markdown",
   "id": "7cd238e8",
   "metadata": {},
   "source": [
    "- 이중 for문은 $O(n^2)$ 이므로 최대크기가 100,000경우에서 처리불가!\n",
    "- 해시로 처리할 것"
   ]
  },
  {
   "cell_type": "code",
   "execution_count": null,
   "id": "5b138a19",
   "metadata": {},
   "outputs": [],
   "source": [
    "# 구현 2\n",
    "def solution(participant, completion):\n",
    "    answer = ''\n",
    "    # 딕셔너리로 해시테이블 생성\n",
    "    dict = {}\n",
    "\n",
    "    # 참가자 이름을 해시테이블에 추가\n",
    "    for part in participant:\n",
    "        if part in dict:\n",
    "            dict[part] += 1\n",
    "        else:\n",
    "            dict[part] = 1\n",
    "\n",
    "    # 완주한 선수는 이름을 키로 하는 값을 1씩 감소\n",
    "    for comp in completion:\n",
    "        dict[comp] -= 1\n",
    "\n",
    "    # 해시테이블에 1로 남아있는 사람만 추출\n",
    "    for key in dict.keys():\n",
    "        if dict[key] > 0:\n",
    "            answer = key\n",
    "\n",
    "    return answer"
   ]
  },
  {
   "cell_type": "code",
   "execution_count": 38,
   "id": "baab30cc",
   "metadata": {},
   "outputs": [
    {
     "data": {
      "text/plain": [
       "'vinko'"
      ]
     },
     "execution_count": 38,
     "metadata": {},
     "output_type": "execute_result"
    }
   ],
   "source": [
    "solution([\"marina\", \"josipa\", \"nikola\", \"vinko\", \"filipa\"], [\"josipa\", \"filipa\", \"marina\", \"nikola\"])"
   ]
  }
 ],
 "metadata": {
  "kernelspec": {
   "display_name": "3.11.9",
   "language": "python",
   "name": "python3"
  },
  "language_info": {
   "codemirror_mode": {
    "name": "ipython",
    "version": 3
   },
   "file_extension": ".py",
   "mimetype": "text/x-python",
   "name": "python",
   "nbconvert_exporter": "python",
   "pygments_lexer": "ipython3",
   "version": "3.11.9"
  }
 },
 "nbformat": 4,
 "nbformat_minor": 5
}
