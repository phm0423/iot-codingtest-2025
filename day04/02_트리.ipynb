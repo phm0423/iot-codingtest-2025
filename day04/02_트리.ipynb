{
 "cells": [
  {
   "cell_type": "markdown",
   "id": "e7247ab2",
   "metadata": {},
   "source": [
    "## 트리\n",
    "\n",
    "### 몸풀기 문제\n",
    "\n",
    "#### 트리 순회\n",
    "- preorder, inorder, postorder"
   ]
  },
  {
   "cell_type": "code",
   "execution_count": 9,
   "id": "3a901df6",
   "metadata": {},
   "outputs": [],
   "source": [
    "# root, left, right 순으로 순회\n",
    "def preorder(nodes, index):\n",
    "    # index가 노트의 리스트의 길이보다 작으면\n",
    "    if index < len(nodes):\n",
    "        ret = str(nodes[index]) + ' '\n",
    "        ret += preorder(nodes, index * 2 + 1) # 배열이어서 index * 2 + 1 이 트리노드 왼쪽\n",
    "        ret += preorder(nodes, index * 2 + 2) # 배열이어서 index * 2 + 1 이 트리노드 오른쪽\n",
    "        return ret\n",
    "    else:\n",
    "        return ''\n",
    "\n",
    "# left, root, right 순으로 순회\n",
    "def inorder(nodes, idx):\n",
    "    if idx < len(nodes):\n",
    "        ret = inorder(nodes, idx * 2 + 1)\n",
    "        ret += str(nodes[idx]) + ' '\n",
    "        ret += inorder(nodes, idx * 2 + 2)\n",
    "        return ret\n",
    "    else:\n",
    "        return ''\n",
    "\n",
    "# left, right, root 순으로 순회    \n",
    "def postorder(nodes, idx):\n",
    "    if idx < len(nodes):\n",
    "        ret = postorder(nodes, idx * 2 + 1)\n",
    "        ret += postorder(nodes, idx * 2 + 2)\n",
    "        ret += str(nodes[idx]) + ' '\n",
    "        return ret\n",
    "    else:\n",
    "        return ''\n",
    "\n",
    "def solution(nodes):\n",
    "    return [\n",
    "        preorder(nodes, 0)[:-1], # [:-1] 마지막 공백 제거\n",
    "        inorder(nodes, 0)[:-1], \n",
    "        postorder(nodes, 0)[:-1], \n",
    "    ]"
   ]
  },
  {
   "cell_type": "code",
   "execution_count": 10,
   "id": "462e6394",
   "metadata": {},
   "outputs": [
    {
     "data": {
      "text/plain": [
       "['1 2 4 5 3 6 7', '4 2 5 1 6 3 7', '4 5 2 6 7 3 1']"
      ]
     },
     "execution_count": 10,
     "metadata": {},
     "output_type": "execute_result"
    }
   ],
   "source": [
    "solution([1,2,3,4,5,6,7])"
   ]
  },
  {
   "cell_type": "markdown",
   "id": "963847be",
   "metadata": {},
   "source": [
    "#### 이진 탐색 트리 구현\n",
    "- 추후 구현 "
   ]
  },
  {
   "cell_type": "markdown",
   "id": "413ee7d8",
   "metadata": {},
   "source": [
    "### 모의 테스트\n",
    "\n",
    "#### 예상 대진표\n",
    "- https://school.programmers.co.kr/learn/courses/30/lessons/12985\n",
    "\n",
    "|N|A|B|answer|\n",
    "|:--|:--|:--|:--|\n",
    "|8|4|7|3|"
   ]
  },
  {
   "cell_type": "code",
   "execution_count": 11,
   "id": "6c26b24e",
   "metadata": {},
   "outputs": [],
   "source": [
    "def solution(n, a, b):\n",
    "    answer = 0\n",
    "\n",
    "    while a != b:\n",
    "        a = (a + 1) // 2\n",
    "        b = (b + 1) // 2\n",
    "        answer += 1   # 한번 경기를 진행했음\n",
    "\n",
    "    return answer"
   ]
  },
  {
   "cell_type": "code",
   "execution_count": 13,
   "id": "71afdf58",
   "metadata": {},
   "outputs": [
    {
     "data": {
      "text/plain": [
       "3"
      ]
     },
     "execution_count": 13,
     "metadata": {},
     "output_type": "execute_result"
    }
   ],
   "source": [
    "solution(8, 4, 7)"
   ]
  },
  {
   "cell_type": "markdown",
   "id": "2334491b",
   "metadata": {},
   "source": [
    "#### 다단계 칫솔 판매\n",
    "- https://school.programmers.co.kr/learn/courses/30/lessons/77486"
   ]
  },
  {
   "cell_type": "code",
   "execution_count": 15,
   "id": "ee451e8d",
   "metadata": {},
   "outputs": [
    {
     "data": {
      "text/plain": [
       "[('apple', 1000), ('banana', 2000), ('cherry', 3000)]"
      ]
     },
     "execution_count": 15,
     "metadata": {},
     "output_type": "execute_result"
    }
   ],
   "source": [
    "fruits = ['apple', 'banana', 'cherry']\n",
    "prices = [1000, 2000, 3000]\n",
    "list(zip(fruits, prices))"
   ]
  },
  {
   "cell_type": "code",
   "execution_count": null,
   "id": "572848de",
   "metadata": {},
   "outputs": [],
   "source": [
    "# 구현\n",
    "def solution(enroll, referral, seller, amount):\n",
    "    answer = []\n",
    "    # parent 딕셔너리 생성, enroll을 key, referral을 value\n",
    "    parent = dict(zip(enroll, referral))\n",
    "    # print(parent)\n",
    "\n",
    "    # total 딕셔너리 생성\n",
    "    total = {name: 0 for name in enroll}\n",
    "    # print(total)\n",
    "\n",
    "    # seller와 amount로 이익 분배처리\n",
    "    for i in range(len(seller)):\n",
    "        # seller가 판매한 총금액 계산\n",
    "        money = amount[i] * 100\n",
    "        curr_name = seller[i]\n",
    "        # print(money, curr_name)\n",
    "\n",
    "        #!! 판매자부터 상위노드(추천자)로 이동하면서 이익 분배\n",
    "        while money > 0 and curr_name != '-':\n",
    "            # 현재 판매자가 받을 금액(10% 제외한 금액) \n",
    "            total[curr_name] += money - money // 10\n",
    "            curr_name = parent[curr_name]\n",
    "            # 현재 판매자 기준, 분배금 계산위해\n",
    "            money //= 10\n",
    "\n",
    "    answer = [total[name] for name in enroll] # 전체 조직에서 판매금액을 리스트화\n",
    "    return answer"
   ]
  },
  {
   "cell_type": "code",
   "execution_count": 27,
   "id": "af35d459",
   "metadata": {},
   "outputs": [
    {
     "name": "stdout",
     "output_type": "stream",
     "text": [
      "{'john': '-', 'mary': '-', 'edward': 'mary', 'sam': 'edward', 'emily': 'mary', 'jaimie': 'mary', 'tod': 'jaimie', 'young': 'edward'}\n",
      "{'john': 0, 'mary': 0, 'edward': 0, 'sam': 0, 'emily': 0, 'jaimie': 0, 'tod': 0, 'young': 0}\n",
      "1200 young\n",
      "400 john\n",
      "200 tod\n",
      "500 emily\n",
      "1000 mary\n"
     ]
    },
    {
     "data": {
      "text/plain": [
       "[360, 958, 108, 0, 450, 18, 180, 1080]"
      ]
     },
     "execution_count": 27,
     "metadata": {},
     "output_type": "execute_result"
    }
   ],
   "source": [
    "# 결과 [360, 958, 108, 0, 450, 18, 180, 1080]\n",
    "solution([\"john\", \"mary\", \"edward\", \"sam\", \"emily\", \"jaimie\", \"tod\", \"young\"],\n",
    "         [\"-\", \"-\", \"mary\", \"edward\", \"mary\", \"mary\", \"jaimie\", \"edward\"],\n",
    "         [\"young\", \"john\", \"tod\", \"emily\", \"mary\"],\n",
    "         [12, 4, 2, 5, 10])"
   ]
  },
  {
   "cell_type": "markdown",
   "id": "1c10029a",
   "metadata": {},
   "source": [
    "- 대부분의 트리문제는 트리 자료구조를 직접사용하지 않음\n",
    "- deque, list 등으로 대체해서 구현\n",
    "- 재귀호출은 조심(시간복잡도에서 통과 못할 수 있음)"
   ]
  }
 ],
 "metadata": {
  "kernelspec": {
   "display_name": "3.11.9",
   "language": "python",
   "name": "python3"
  },
  "language_info": {
   "codemirror_mode": {
    "name": "ipython",
    "version": 3
   },
   "file_extension": ".py",
   "mimetype": "text/x-python",
   "name": "python",
   "nbconvert_exporter": "python",
   "pygments_lexer": "ipython3",
   "version": "3.11.9"
  }
 },
 "nbformat": 4,
 "nbformat_minor": 5
}
