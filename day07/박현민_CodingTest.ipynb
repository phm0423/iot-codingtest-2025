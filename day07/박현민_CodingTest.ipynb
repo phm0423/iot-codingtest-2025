{
 "cells": [
  {
   "cell_type": "markdown",
   "id": "3099bb97",
   "metadata": {},
   "source": [
    "## 프로그래머스 문제\n",
    "\n",
    "XYZ 마트는 일정한 금액을 지불하면 10일 동안 회원 자격을 부여합니다. XYZ 마트에서는 회원을 대상으로 매일 한 가지 제품을 할인하는 행사를 합니다. 할인하는 제품은 하루에 하나씩만 구매할 수 있습니다. 알뜰한 정현이는 자신이 원하는 제품과 수량이 할인하는 날짜와 10일 연속으로 일치할 경우에 맞춰서 회원가입을 하려 합니다.\n",
    "\n",
    "예를 들어, 정현이가 원하는 제품이 바나나 3개, 사과 2개, 쌀 2개, 돼지고기 2개, 냄비 1개이며, XYZ 마트에서 14일간 회원을 대상으로 할인하는 제품이 날짜 순서대로 치킨, 사과, 사과, 바나나, 쌀, 사과, 돼지고기, 바나나, 돼지고기, 쌀, 냄비, 바나나, 사과, 바나나인 경우에 대해 알아봅시다. 첫째 날부터 열흘 간에는 냄비가 할인하지 않기 때문에 첫째 날에는 회원가입을 하지 않습니다. 둘째 날부터 열흘 간에는 바나나를 원하는 만큼 할인구매할 수 없기 때문에 둘째 날에도 회원가입을 하지 않습니다. 셋째 날, 넷째 날, 다섯째 날부터 각각 열흘은 원하는 제품과 수량이 일치하기 때문에 셋 중 하루에 회원가입을 하려 합니다.\n",
    "\n",
    "정현이가 원하는 제품을 나타내는 문자열 배열 want와 정현이가 원하는 제품의 수량을 나타내는 정수 배열 number, XYZ 마트에서 할인하는 제품을 나타내는 문자열 배열 discount가 주어졌을 때, 회원등록시 정현이가 원하는 제품을 모두 할인 받을 수 있는 회원등록 날짜의 총 일수를 return 하는 solution 함수를 완성하시오. 가능한 날이 없으면 0을 return 합니다."
   ]
  },
  {
   "cell_type": "markdown",
   "id": "0925ff03",
   "metadata": {},
   "source": [
    "### 입출력 예\n",
    "\n",
    "|want|number|discount|result|\n",
    "|---|---|---|---|\n",
    "|[\"banana\", \"apple\", \"rice\", \"pork\", \"pot\"]|[3, 2, 2, 2, 1]|[\"chicken\", \"apple\", \"apple\", \"banana\", \"rice\", \"apple\", \"pork\", \"banana\", \"pork\", \"rice\", \"pot\", \"banana\", \"apple\", \"banana\"]|3|\n",
    "|[\"apple\"]|[10]|[\"banana\", \"banana\", \"banana\", \"banana\", \"banana\", \"banana\", \"banana\", \"banana\", \"banana\", \"banana\"]|0|"
   ]
  },
  {
   "cell_type": "markdown",
   "id": "b064a547",
   "metadata": {},
   "source": [
    "### 제한사항\n",
    "- 1 ≤ want의 길이 = number의 길이 ≤ 10\n",
    "    - 1 ≤ number의 원소 ≤ 10\n",
    "    - number[i]는 want[i]의 수량을 의미하며, number의 원소의 합은 10입니다.\n",
    "- 10 ≤ discount의 길이 ≤ 100,000\n",
    "- want와 discount의 원소들은 알파벳 소문자로 이루어진 문자열입니다.\n",
    "    - 1 ≤ want의 원소의 길이, discount의 원소의 길이 ≤ 12"
   ]
  },
  {
   "cell_type": "code",
   "execution_count": 22,
   "id": "c9810f5d",
   "metadata": {},
   "outputs": [],
   "source": [
    "# 입출력 예시\n",
    "want = [\"banana\", \"apple\", \"rice\", \"pork\", \"pot\"]\n",
    "number = [3, 2, 2, 2, 1]\n",
    "discount = [\"chicken\", \"apple\", \"apple\", \"banana\", \"rice\", \"apple\", \"pork\", \"banana\", \"pork\", \"rice\", \"pot\", \"banana\", \"apple\", \"banana\"]"
   ]
  },
  {
   "cell_type": "code",
   "execution_count": 3,
   "id": "66bc675e",
   "metadata": {},
   "outputs": [],
   "source": [
    "# 초기 주어진 코드\n",
    "\n",
    "def solution(want, number, discount):\n",
    "    answer = 0\n",
    "    return answer"
   ]
  },
  {
   "cell_type": "code",
   "execution_count": 18,
   "id": "92f9c11d",
   "metadata": {},
   "outputs": [
    {
     "name": "stdout",
     "output_type": "stream",
     "text": [
      "{'banana': 3, 'apple': 2, 'rice': 2, 'pork': 2, 'pot': 1}\n"
     ]
    }
   ],
   "source": [
    "# 원하는 제품별 수량 딕셔너리\n",
    "dic1 = {}\n",
    "for i in range(len(number)):\n",
    "    dic1[want[i]] = number[i]\n",
    "print(dic1)\n"
   ]
  },
  {
   "cell_type": "code",
   "execution_count": 20,
   "id": "265145ff",
   "metadata": {},
   "outputs": [
    {
     "name": "stdout",
     "output_type": "stream",
     "text": [
      "{'rice': 2, 'apple': 2, 'pork': 2, 'banana': 3, 'pot': 1}\n"
     ]
    }
   ],
   "source": [
    "answer = 0\n",
    "# 10일간 할인제품 수량 딕셔너리\n",
    "for i in range(0, len(discount)-9):\n",
    "    dic2 = {}\n",
    "\n",
    "    for j in range(i, i+10):\n",
    "        if discount[j] in dic2:\n",
    "            dic2[discount[j]] += 1\n",
    "        \n",
    "        else:\n",
    "            dic2[discount[j]] = 1\n",
    "\n",
    "    if dic1 == dic2:\n",
    "        answer += 1\n",
    "\n",
    "print(dic2)"
   ]
  },
  {
   "cell_type": "code",
   "execution_count": 24,
   "id": "88489edb",
   "metadata": {},
   "outputs": [
    {
     "data": {
      "text/plain": [
       "3"
      ]
     },
     "execution_count": 24,
     "metadata": {},
     "output_type": "execute_result"
    }
   ],
   "source": [
    "def solution(want, number, discount):\n",
    "    answer = 0\n",
    "    dic1 = {}\n",
    "\n",
    "    # 원하는 제품별 수량 딕셔너리\n",
    "    for i in range(len(number)):\n",
    "        dic1[want[i]] = number[i]\n",
    "\n",
    "    # 10일간 할인제품 수량 딕셔너리\n",
    "    for i in range(0, len(discount)-9):\n",
    "        dic2 = {}\n",
    "\n",
    "        for j in range(i, i+10):\n",
    "            if discount[j] in dic2:\n",
    "                dic2[discount[j]] += 1\n",
    "        \n",
    "            else:\n",
    "                dic2[discount[j]] = 1\n",
    "\n",
    "        if dic1 == dic2:\n",
    "            answer += 1\n",
    "    \n",
    "    return answer\n",
    "\n",
    "solution(want, number, discount)"
   ]
  },
  {
   "cell_type": "markdown",
   "id": "cb269458",
   "metadata": {},
   "source": [
    "<img src=\"../image/CodingTest001.png\" width=\"500\">"
   ]
  }
 ],
 "metadata": {
  "kernelspec": {
   "display_name": "3.11.9",
   "language": "python",
   "name": "python3"
  },
  "language_info": {
   "codemirror_mode": {
    "name": "ipython",
    "version": 3
   },
   "file_extension": ".py",
   "mimetype": "text/x-python",
   "name": "python",
   "nbconvert_exporter": "python",
   "pygments_lexer": "ipython3",
   "version": "3.11.9"
  }
 },
 "nbformat": 4,
 "nbformat_minor": 5
}
